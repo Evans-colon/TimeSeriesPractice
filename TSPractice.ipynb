{
 "cells": [
  {
   "cell_type": "code",
   "execution_count": 1,
   "id": "initial_id",
   "metadata": {
    "collapsed": true,
    "ExecuteTime": {
     "end_time": "2024-01-17T03:39:46.966417217Z",
     "start_time": "2024-01-17T03:39:46.146795331Z"
    }
   },
   "outputs": [],
   "source": [
    "import pandas as pd\n",
    "import matplotlib.pyplot as plt\n",
    "import numpy as np"
   ]
  },
  {
   "cell_type": "code",
   "outputs": [
    {
     "data": {
      "text/plain": "2000-01-01 00:00:00     0\n2000-01-01 00:01:00     1\n2000-01-01 00:02:00     2\n2000-01-01 00:03:00     3\n2000-01-01 00:04:00     4\n2000-01-01 00:05:00     5\n2000-01-01 00:06:00     6\n2000-01-01 00:07:00     7\n2000-01-01 00:08:00     8\n2000-01-01 00:09:00     9\n2000-01-01 00:10:00    10\n2000-01-01 00:11:00    11\nFreq: T, dtype: int64"
     },
     "execution_count": 2,
     "metadata": {},
     "output_type": "execute_result"
    }
   ],
   "source": [
    "data = pd.date_range('2000-01-01', periods = 12, freq = 'T')\n",
    "time_series = pd.Series(np.arange(12), index=data)\n",
    "time_series"
   ],
   "metadata": {
    "collapsed": false,
    "ExecuteTime": {
     "end_time": "2024-01-17T03:39:50.626266822Z",
     "start_time": "2024-01-17T03:39:50.615983296Z"
    }
   },
   "id": "26bbf1f331017df0",
   "execution_count": 2
  },
  {
   "cell_type": "code",
   "outputs": [],
   "source": [],
   "metadata": {
    "collapsed": false
   },
   "id": "e49acecc18468b1"
  }
 ],
 "metadata": {
  "kernelspec": {
   "display_name": "Python 3",
   "language": "python",
   "name": "python3"
  },
  "language_info": {
   "codemirror_mode": {
    "name": "ipython",
    "version": 2
   },
   "file_extension": ".py",
   "mimetype": "text/x-python",
   "name": "python",
   "nbconvert_exporter": "python",
   "pygments_lexer": "ipython2",
   "version": "2.7.6"
  }
 },
 "nbformat": 4,
 "nbformat_minor": 5
}
